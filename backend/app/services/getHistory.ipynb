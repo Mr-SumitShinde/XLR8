{
 "cells": [
  {
   "cell_type": "code",
   "execution_count": 10,
   "metadata": {},
   "outputs": [],
   "source": [
    "import time\n",
    "from datetime import datetime\n",
    "from fyers_apiv3 import fyersModel\n",
    "import os\n",
    "\n",
    "symbol_script = 'NSE:NIFTYBANK-INDEX'\n",
    "\n",
    "current_dir1 = os.path.dirname(os.getcwd())\n",
    "current_dir2 = os.path.dirname(current_dir1)\n",
    "file_path = os.path.join(current_dir2, 'access.txt')\n",
    "\n",
    "def get_access_token(file_path):\n",
    "    with open(file_path, \"r\") as file:\n",
    "        file_content = file.read()\n",
    "    return file_content\n",
    "\n",
    "client_id='6MS9YXZMMR-100'\n",
    "fyers = fyersModel. FyersModel (token= get_access_token(file_path), log_path=os.getcwd(), client_id=client_id)"
   ]
  },
  {
   "cell_type": "code",
   "execution_count": 11,
   "metadata": {},
   "outputs": [
    {
     "data": {
      "text/plain": [
       "{'candles': [[1704947400, 623.8, 624, 621.2, 621.95, 761222],\n",
       "  [1704948300, 622, 624.95, 621.95, 624.7, 445417],\n",
       "  [1704949200, 624.65, 626, 623.35, 623.85, 477814],\n",
       "  [1704950100, 623.95, 624.75, 621.7, 623.3, 400730],\n",
       "  [1704951000, 623.4, 623.55, 622.2, 622.95, 246282],\n",
       "  [1704951900, 623, 623.65, 621.85, 621.85, 600595],\n",
       "  [1704952800, 622, 622.6, 621.3, 622.25, 530957],\n",
       "  [1704953700, 622.1, 622.4, 620.7, 621.15, 682995],\n",
       "  [1704954600, 621.2, 621.75, 620.55, 620.7, 461822],\n",
       "  [1704955500, 620.65, 622.55, 620.5, 622, 635851],\n",
       "  [1704956400, 622, 623, 621.6, 622.9, 336143],\n",
       "  [1704957300, 623, 623.2, 621.7, 622.05, 438878],\n",
       "  [1704958200, 622.15, 622.25, 621.15, 621.55, 393678],\n",
       "  [1704959100, 621.55, 622.1, 621.15, 621.4, 265416],\n",
       "  [1704960000, 621.4, 622.65, 621.15, 622.3, 330814],\n",
       "  [1704960900, 622.3, 622.5, 621.1, 621.5, 457951],\n",
       "  [1704961800, 621.5, 622.3, 618.65, 619.55, 1139898]],\n",
       " 'code': 200,\n",
       " 'message': '',\n",
       " 's': 'ok'}"
      ]
     },
     "execution_count": 11,
     "metadata": {},
     "output_type": "execute_result"
    }
   ],
   "source": [
    "data = {\"symbol\":\"NSE:SBIN-EQ\", \"resolution\":\"15\", \"date_format\": \"0\",\"range_from\": \"1704947400\", \"range_to\": \"1704961800\", \"cont_flag\": \"1\"}\n",
    "sdata= fyers.history(data)\n",
    "sdata"
   ]
  },
  {
   "cell_type": "code",
   "execution_count": null,
   "metadata": {},
   "outputs": [],
   "source": [
    "def fetch_realtime_candles(symbol, time_frame, candle_numbers, fyers_client):\n",
    "    # Calculate the resolution in seconds\n",
    "    resolution_seconds = int(time_frame) * 60\n",
    "\n",
    "    # Fetch the current epoch time\n",
    "    current_epoch_time = int(time.time())\n",
    "\n",
    "    # Calculate the start time for historical data\n",
    "    start_epoch_time = current_epoch_time - (candle_numbers * resolution_seconds)\n",
    "\n",
    "    # Prepare the data for the API call\n",
    "    data = {\n",
    "        \"symbol\": symbol,\n",
    "        \"resolution\": time_frame,\n",
    "        \"date_format\": \"0\",\n",
    "        \"range_from\": str(start_epoch_time),\n",
    "        \"range_to\": str(current_epoch_time),\n",
    "        \"cont_flag\": \"1\"\n",
    "    }\n",
    "\n",
    "    # Make the history API call\n",
    "    historical_data = fyers_client.history(data)\n",
    "\n",
    "    # Process the historical data\n",
    "    candlesticks = []\n",
    "    for candle in historical_data['candles']:\n",
    "        candle_obj = {\n",
    "            'epoch_time': candle['timestamp'],\n",
    "            'open': candle['open'],\n",
    "            'high': candle['high'],\n",
    "            'low': candle['low'],\n",
    "            'close': candle['close'],\n",
    "            'volume': candle['volume']\n",
    "        }\n",
    "        candlesticks.append(candle_obj)\n",
    "\n",
    "    # Print or use the historical data as needed\n",
    "    print(\"Historical Candlesticks:\")\n",
    "    print(candlesticks)\n",
    "\n",
    "    # Continuously fetch new real-time data and append to the list\n",
    "    while True:\n",
    "        # Fetch real-time data\n",
    "        real_time_data = fyers_client.get_realtime_data(symbol)\n",
    "\n",
    "        # Process the real-time data\n",
    "        new_candle = {\n",
    "            'epoch_time': real_time_data['timestamp'],\n",
    "            'open': real_time_data['open'],\n",
    "            'high': real_time_data['high'],\n",
    "            'low': real_time_data['low'],\n",
    "            'close': real_time_data['close'],\n",
    "            'volume': real_time_data['volume']\n",
    "        }\n",
    "\n",
    "        # Append the new candle to the list\n",
    "        candlesticks.append(new_candle)\n",
    "\n",
    "        # Print or use the new candle as needed\n",
    "        print(f\"New Candlestick: {new_candle}\")\n",
    "\n",
    "        # Wait for the next candle (adjust sleep time based on your time frame)\n",
    "        time.sleep(resolution_seconds)"
   ]
  },
  {
   "cell_type": "code",
   "execution_count": 14,
   "metadata": {},
   "outputs": [
    {
     "name": "stdout",
     "output_type": "stream",
     "text": [
      "Closest past epoch time for a 30-minute time frame: 1704942000\n"
     ]
    }
   ],
   "source": [
    "import datetime\n",
    "\n",
    "def get_closest_past_epoch(time_frame_minutes):\n",
    "    # Get the current time in GMT+5:30 (Indian Standard Time)\n",
    "    current_time = datetime.datetime.utcnow() + datetime.timedelta(hours=5, minutes=30)\n",
    "\n",
    "    # Extract the current hour and minute\n",
    "    current_hour = current_time.hour\n",
    "    current_minute = current_time.minute\n",
    "\n",
    "    # Calculate the nearest multiple of time_frame_minutes in the past\n",
    "    nearest_past_minute = (current_minute // time_frame_minutes) * time_frame_minutes\n",
    "    nearest_past_time = current_time.replace(minute=nearest_past_minute, second=0, microsecond=0)\n",
    "\n",
    "    # If the current time is before 9:15 AM, go back to the previous day\n",
    "    if current_hour < 9 or (current_hour == 9 and current_minute < 15):\n",
    "        nearest_past_time -= datetime.timedelta(days=1)\n",
    "\n",
    "    # Convert the nearest past time to epoch time\n",
    "    epoch_time = int(nearest_past_time.timestamp())\n",
    "\n",
    "    return epoch_time\n",
    "\n",
    "# Example usage:\n",
    "time_frame_minutes = 1\n",
    "epoch_time = get_closest_past_epoch(time_frame_minutes)\n",
    "print(f\"Closest past epoch time for a {time_frame_minutes}-minute time frame: {epoch_time}\")\n"
   ]
  }
 ],
 "metadata": {
  "kernelspec": {
   "display_name": "Python 3",
   "language": "python",
   "name": "python3"
  },
  "language_info": {
   "codemirror_mode": {
    "name": "ipython",
    "version": 3
   },
   "file_extension": ".py",
   "mimetype": "text/x-python",
   "name": "python",
   "nbconvert_exporter": "python",
   "pygments_lexer": "ipython3",
   "version": "3.11.7"
  }
 },
 "nbformat": 4,
 "nbformat_minor": 2
}
