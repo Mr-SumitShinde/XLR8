{
 "cells": [
  {
   "cell_type": "code",
   "execution_count": 3,
   "metadata": {},
   "outputs": [
    {
     "name": "stdout",
     "output_type": "stream",
     "text": [
      "[[1690934400, 45234.65, 45404.9, 44720.9, 44995.7, 0], [1691020800, 44862.85, 45038.45, 44279.4, 44513.45, 0]]\n"
     ]
    }
   ],
   "source": [
    "from fyers_apiv3 import fyersModel\n",
    "from datetime import datetime, timedelta\n",
    "import os\n",
    "\n",
    "client_id='6MS9YXZMMR-100'\n",
    "symbol_script = 'NSE:NIFTYBANK-INDEX'\n",
    "\n",
    "current_dir1 = os.path.dirname(os.getcwd())\n",
    "current_dir2 = os.path.dirname(current_dir1)\n",
    "file_path = os.path.join(current_dir2, 'access.txt')\n",
    "\n",
    "def get_access_token(file_path):\n",
    "    with open(file_path, \"r\") as file:\n",
    "        file_content = file.read()\n",
    "    return file_content\n",
    "\n",
    "access_token = get_access_token(file_path)\n",
    "\n",
    "# Initialize the FyersModel instance with your client_id, access_token, and enable async mode\n",
    "fyers = fyersModel.FyersModel(client_id=client_id, is_async=False, token=access_token, log_path=\"\")\n",
    "\n",
    "data = {\n",
    "    \"symbol\":symbol_script,\n",
    "    \"resolution\":\"D\",\n",
    "    \"date_format\":\"1\",\n",
    "    \"range_from\": \"2023-12-01\",\n",
    "    \"range_from\": \"2023-12-01\",\n",
    "    \"cont_flag\":\"1\"\n",
    "}\n",
    "\n",
    "response = fyers.history(data=data)\n",
    "print(response['candles'])\n",
    "\n",
    "\n",
    "\n"
   ]
  },
  {
   "cell_type": "code",
   "execution_count": null,
   "metadata": {},
   "outputs": [],
   "source": [
    "{\n",
    "  \"candles\":[\n",
    "      [\n",
    "        1690934400,\n",
    "        609.85,\n",
    "        610.5,\n",
    "        594.1,\n",
    "        598.45,\n",
    "        14977497\n",
    "      ],\n",
    "      [\n",
    "        1691020800,\n",
    "        598.7,\n",
    "        600.85,\n",
    "        585,\n",
    "        590.5,\n",
    "        27774877\n",
    "      ]\n",
    "  ],\n",
    "  \"code\":200,\n",
    "  \"message\":\"\",\n",
    "  \"s\":\"ok\"\n",
    "}\n"
   ]
  }
 ],
 "metadata": {
  "kernelspec": {
   "display_name": "Python 3",
   "language": "python",
   "name": "python3"
  },
  "language_info": {
   "codemirror_mode": {
    "name": "ipython",
    "version": 3
   },
   "file_extension": ".py",
   "mimetype": "text/x-python",
   "name": "python",
   "nbconvert_exporter": "python",
   "pygments_lexer": "ipython3",
   "version": "3.11.7"
  }
 },
 "nbformat": 4,
 "nbformat_minor": 2
}
